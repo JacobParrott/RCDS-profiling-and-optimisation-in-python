{
 "cells": [
  {
   "cell_type": "markdown",
   "metadata": {
    "colab_type": "text",
    "id": "QB3RNQe0ncoH"
   },
   "source": [
    "# Optimisation: NumPy\n",
    "\n",
    "Vanilla Python is bad at storing and manipulating large amounts of data. Lists, dictionaries, sets and tuples are inherently slow and inefficient. If you're handling large amounts of data in a performance-critical area of your code, substantial gains can be made by using other data types to store your data.\n",
    "\n",
    "One of the most popular ways of holding large amounts of data  is through the use of the [NumPy](https://numpy.org/) package. NumPy provides access to the powerful array data type which can store large N-dimensional arrays of data. As Numpy largely overlays compiled code written in the C language, it bypasses many of the weaknesses of Python to provide very fast performance for common linear algebra (and other) operations.\n",
    "\n",
    "This notebook doesn't aim to give you a working knowledge of NumPy. Instead, it aims to offer a brief demonstration of the savings which can be made by using NumPy.\n",
    "\n",
    "## Dot Product Example\n",
    "\n",
    "In the example below we generate two random vectors each with 1,000,000 entries and then calculate the dot product of them"
   ]
  },
  {
   "cell_type": "code",
   "execution_count": 1,
   "metadata": {
    "colab": {},
    "colab_type": "code",
    "id": "19sztOuVnbtT"
   },
   "outputs": [
    {
     "name": "stdout",
     "output_type": "stream",
     "text": [
      "Timer unit: 1e-07 s\n",
      "\n",
      "Total time: 9.26864 s\n",
      "File: C:\\Users\\jacob\\AppData\\Local\\Temp\\ipykernel_5900\\622497151.py\n",
      "Function: random_dot_product at line 5\n",
      "\n",
      "Line #      Hits         Time  Per Hit   % Time  Line Contents\n",
      "==============================================================\n",
      "     5                                           def random_dot_product(n):\n",
      "     6         1   44903909.0 44903909.0     48.4    list_1 = [random.randrange(1, 100, 1) for i in range(n)]\n",
      "     7         1   45015962.0 45015962.0     48.6    list_2 = [random.randrange(1, 100, 1) for i in range(n)]\n",
      "     8                                           \n",
      "     9         1    2766559.0 2766559.0      3.0    return(sum([x*y for x, y in zip(list_1, list_2)]))"
     ]
    }
   ],
   "source": [
    " \n",
    "import random\n",
    "\n",
    "%load_ext line_profiler\n",
    "\n",
    "def random_dot_product(n):\n",
    "  list_1 = [random.randrange(1, 100, 1) for i in range(n)]\n",
    "  list_2 = [random.randrange(1, 100, 1) for i in range(n)]\n",
    "\n",
    "  return(sum([x*y for x, y in zip(list_1, list_2)]))\n",
    "\n",
    "%lprun -f random_dot_product random_dot_product(1000000)"
   ]
  },
  {
   "cell_type": "code",
   "execution_count": 2,
   "metadata": {
    "colab": {},
    "colab_type": "code",
    "id": "4ou-rdHPDsaw"
   },
   "outputs": [
    {
     "name": "stdout",
     "output_type": "stream",
     "text": [
      "The line_profiler extension is already loaded. To reload it, use:\n",
      "  %reload_ext line_profiler\n"
     ]
    },
    {
     "name": "stdout",
     "output_type": "stream",
     "text": [
      "Timer unit: 1e-07 s\n",
      "\n",
      "Total time: 0.0217881 s\n",
      "File: C:\\Users\\jacob\\AppData\\Local\\Temp\\ipykernel_5900\\159671606.py\n",
      "Function: random_dot_product at line 5\n",
      "\n",
      "Line #      Hits         Time  Per Hit   % Time  Line Contents\n",
      "==============================================================\n",
      "     5                                           def random_dot_product(n):\n",
      "     6         1      93069.0  93069.0     42.7    array1 = np.random.rand(n)\n",
      "     7         1      65484.0  65484.0     30.1    array2 = np.random.rand(n)\n",
      "     8                                           \n",
      "     9         1      59328.0  59328.0     27.2    return(np.dot(array1, array2))"
     ]
    }
   ],
   "source": [
    " \n",
    "import numpy as np\n",
    "\n",
    "%load_ext line_profiler\n",
    "\n",
    "def random_dot_product(n):\n",
    "  array1 = np.random.rand(n)\n",
    "  array2 = np.random.rand(n)\n",
    "\n",
    "  return(np.dot(array1, array2))\n",
    "\n",
    "%lprun -f random_dot_product random_dot_product(1000000)"
   ]
  },
  {
   "cell_type": "markdown",
   "metadata": {
    "colab_type": "text",
    "id": "XU8uXOwFFe8P"
   },
   "source": [
    "The second case, using NumPy, executes around 300 times faster than the first. This is because the bulk of the calculations has been shifted out of Python and into C, which is much faster. In addition, the availability of intrinsic function specifically designed to generate a random array and perform a dot product both allow a specific and optimised implementation compared to the first version where we wrote the calculations in raw Python."
   ]
  }
 ],
 "metadata": {
  "colab": {
   "authorship_tag": "ABX9TyNb3AuIU5o7bsImEJaZmFxv",
   "collapsed_sections": [],
   "name": "Optimisation_ NumPy.ipynb",
   "provenance": []
  },
  "kernelspec": {
   "display_name": "Python 3.9.7 ('PhD')",
   "language": "python",
   "name": "python3"
  },
  "language_info": {
   "codemirror_mode": {
    "name": "ipython",
    "version": 3
   },
   "file_extension": ".py",
   "mimetype": "text/x-python",
   "name": "python",
   "nbconvert_exporter": "python",
   "pygments_lexer": "ipython3",
   "version": "3.9.7"
  },
  "vscode": {
   "interpreter": {
    "hash": "60a01245461b2e5014709214bebb96b9e6c7e5f877bfafaa877245bcc1d56dc2"
   }
  }
 },
 "nbformat": 4,
 "nbformat_minor": 1
}
